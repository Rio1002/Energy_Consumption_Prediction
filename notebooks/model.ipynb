{
 "cells": [
  {
   "cell_type": "code",
   "execution_count": 21,
   "id": "11cd39f4",
   "metadata": {},
   "outputs": [],
   "source": [
    "import pandas as pd"
   ]
  },
  {
   "cell_type": "code",
   "execution_count": 22,
   "id": "58ca850f",
   "metadata": {},
   "outputs": [],
   "source": [
    "df = pd.read_csv(r\"D:\\ITVedant\\ML\\Energy_Consumption_prediction\\data\\house_energy_consumption.csv\")"
   ]
  },
  {
   "cell_type": "code",
   "execution_count": 23,
   "id": "4cf63b7f",
   "metadata": {},
   "outputs": [
    {
     "data": {
      "text/html": [
       "<div>\n",
       "<style scoped>\n",
       "    .dataframe tbody tr th:only-of-type {\n",
       "        vertical-align: middle;\n",
       "    }\n",
       "\n",
       "    .dataframe tbody tr th {\n",
       "        vertical-align: top;\n",
       "    }\n",
       "\n",
       "    .dataframe thead th {\n",
       "        text-align: right;\n",
       "    }\n",
       "</style>\n",
       "<table border=\"1\" class=\"dataframe\">\n",
       "  <thead>\n",
       "    <tr style=\"text-align: right;\">\n",
       "      <th></th>\n",
       "      <th>House_Age</th>\n",
       "      <th>Number_of_Occupants</th>\n",
       "      <th>Temperature</th>\n",
       "      <th>Humidity</th>\n",
       "      <th>Day_of_Week</th>\n",
       "      <th>Is_Holiday</th>\n",
       "      <th>Appliance_Usage</th>\n",
       "      <th>Outdoor_Light_Intensity</th>\n",
       "      <th>Window_Open</th>\n",
       "      <th>Hour_of_Day</th>\n",
       "      <th>AC_Usage</th>\n",
       "      <th>Heater_Usage</th>\n",
       "      <th>Total_Energy_Consumption</th>\n",
       "    </tr>\n",
       "  </thead>\n",
       "  <tbody>\n",
       "    <tr>\n",
       "      <th>0</th>\n",
       "      <td>39</td>\n",
       "      <td>5</td>\n",
       "      <td>13.427675</td>\n",
       "      <td>55.326243</td>\n",
       "      <td>1</td>\n",
       "      <td>0</td>\n",
       "      <td>3.117238</td>\n",
       "      <td>3809.951096</td>\n",
       "      <td>0</td>\n",
       "      <td>16</td>\n",
       "      <td>1.139113</td>\n",
       "      <td>1.297489</td>\n",
       "      <td>6.73</td>\n",
       "    </tr>\n",
       "    <tr>\n",
       "      <th>1</th>\n",
       "      <td>29</td>\n",
       "      <td>1</td>\n",
       "      <td>22.894035</td>\n",
       "      <td>70.122169</td>\n",
       "      <td>0</td>\n",
       "      <td>0</td>\n",
       "      <td>1.497287</td>\n",
       "      <td>6336.378572</td>\n",
       "      <td>1</td>\n",
       "      <td>20</td>\n",
       "      <td>0.340074</td>\n",
       "      <td>0.726100</td>\n",
       "      <td>3.93</td>\n",
       "    </tr>\n",
       "    <tr>\n",
       "      <th>2</th>\n",
       "      <td>15</td>\n",
       "      <td>6</td>\n",
       "      <td>25.078204</td>\n",
       "      <td>68.099616</td>\n",
       "      <td>5</td>\n",
       "      <td>0</td>\n",
       "      <td>2.607115</td>\n",
       "      <td>1928.338130</td>\n",
       "      <td>0</td>\n",
       "      <td>13</td>\n",
       "      <td>1.232131</td>\n",
       "      <td>0.041181</td>\n",
       "      <td>4.87</td>\n",
       "    </tr>\n",
       "    <tr>\n",
       "      <th>3</th>\n",
       "      <td>43</td>\n",
       "      <td>3</td>\n",
       "      <td>21.109679</td>\n",
       "      <td>64.599561</td>\n",
       "      <td>1</td>\n",
       "      <td>0</td>\n",
       "      <td>2.518219</td>\n",
       "      <td>4173.320884</td>\n",
       "      <td>0</td>\n",
       "      <td>10</td>\n",
       "      <td>0.828875</td>\n",
       "      <td>0.635337</td>\n",
       "      <td>5.49</td>\n",
       "    </tr>\n",
       "    <tr>\n",
       "      <th>4</th>\n",
       "      <td>8</td>\n",
       "      <td>1</td>\n",
       "      <td>15.556941</td>\n",
       "      <td>55.665924</td>\n",
       "      <td>4</td>\n",
       "      <td>0</td>\n",
       "      <td>2.936067</td>\n",
       "      <td>3576.325072</td>\n",
       "      <td>1</td>\n",
       "      <td>3</td>\n",
       "      <td>1.570343</td>\n",
       "      <td>1.061767</td>\n",
       "      <td>6.49</td>\n",
       "    </tr>\n",
       "  </tbody>\n",
       "</table>\n",
       "</div>"
      ],
      "text/plain": [
       "   House_Age  Number_of_Occupants  Temperature   Humidity  Day_of_Week  \\\n",
       "0         39                    5    13.427675  55.326243            1   \n",
       "1         29                    1    22.894035  70.122169            0   \n",
       "2         15                    6    25.078204  68.099616            5   \n",
       "3         43                    3    21.109679  64.599561            1   \n",
       "4          8                    1    15.556941  55.665924            4   \n",
       "\n",
       "   Is_Holiday  Appliance_Usage  Outdoor_Light_Intensity  Window_Open  \\\n",
       "0           0         3.117238              3809.951096            0   \n",
       "1           0         1.497287              6336.378572            1   \n",
       "2           0         2.607115              1928.338130            0   \n",
       "3           0         2.518219              4173.320884            0   \n",
       "4           0         2.936067              3576.325072            1   \n",
       "\n",
       "   Hour_of_Day  AC_Usage  Heater_Usage  Total_Energy_Consumption  \n",
       "0           16  1.139113      1.297489                      6.73  \n",
       "1           20  0.340074      0.726100                      3.93  \n",
       "2           13  1.232131      0.041181                      4.87  \n",
       "3           10  0.828875      0.635337                      5.49  \n",
       "4            3  1.570343      1.061767                      6.49  "
      ]
     },
     "execution_count": 23,
     "metadata": {},
     "output_type": "execute_result"
    }
   ],
   "source": [
    "df.head()"
   ]
  },
  {
   "cell_type": "code",
   "execution_count": 24,
   "id": "b2523de0",
   "metadata": {},
   "outputs": [
    {
     "name": "stdout",
     "output_type": "stream",
     "text": [
      "<class 'pandas.core.frame.DataFrame'>\n",
      "RangeIndex: 16000 entries, 0 to 15999\n",
      "Data columns (total 13 columns):\n",
      " #   Column                    Non-Null Count  Dtype  \n",
      "---  ------                    --------------  -----  \n",
      " 0   House_Age                 16000 non-null  int64  \n",
      " 1   Number_of_Occupants       16000 non-null  int64  \n",
      " 2   Temperature               16000 non-null  float64\n",
      " 3   Humidity                  16000 non-null  float64\n",
      " 4   Day_of_Week               16000 non-null  int64  \n",
      " 5   Is_Holiday                16000 non-null  int64  \n",
      " 6   Appliance_Usage           16000 non-null  float64\n",
      " 7   Outdoor_Light_Intensity   16000 non-null  float64\n",
      " 8   Window_Open               16000 non-null  int64  \n",
      " 9   Hour_of_Day               16000 non-null  int64  \n",
      " 10  AC_Usage                  16000 non-null  float64\n",
      " 11  Heater_Usage              16000 non-null  float64\n",
      " 12  Total_Energy_Consumption  16000 non-null  float64\n",
      "dtypes: float64(7), int64(6)\n",
      "memory usage: 1.6 MB\n"
     ]
    }
   ],
   "source": [
    "df.info()"
   ]
  },
  {
   "cell_type": "code",
   "execution_count": 25,
   "id": "ad2ef5c1",
   "metadata": {},
   "outputs": [],
   "source": [
    "features = ['House_Age','Number_of_Occupants','Temperature','Humidity','Day_of_Week','Is_Holiday','Window_Open','Hour_of_Day','Appliance_Usage','AC_Usage','Heater_Usage']\n",
    "x=df[features]\n",
    "y=df['Total_Energy_Consumption']"
   ]
  },
  {
   "cell_type": "code",
   "execution_count": 26,
   "id": "65d40779",
   "metadata": {},
   "outputs": [],
   "source": [
    "from sklearn.model_selection import train_test_split\n",
    "x_train,x_test,y_train,y_test = train_test_split(x,y,test_size=0.2,random_state=42)"
   ]
  },
  {
   "cell_type": "code",
   "execution_count": 27,
   "id": "fac4871f",
   "metadata": {},
   "outputs": [],
   "source": [
    "from sklearn.linear_model import LinearRegression\n",
    "from sklearn.ensemble import RandomForestRegressor,GradientBoostingRegressor\n",
    "from sklearn.svm import SVR\n",
    "from sklearn.tree import DecisionTreeRegressor\n",
    "from sklearn.neighbors import KNeighborsRegressor\n",
    "from xgboost import XGBRegressor"
   ]
  },
  {
   "cell_type": "code",
   "execution_count": 28,
   "id": "26e40b4c",
   "metadata": {},
   "outputs": [],
   "source": [
    "models = {\n",
    "    \"Linear Regression\":LinearRegression(),\n",
    "    \"Decision Tree\":DecisionTreeRegressor(),\n",
    "    \"Random Forest\":RandomForestRegressor(),\n",
    "    \"Gradient Boosting\":GradientBoostingRegressor(),\n",
    "    \"XGBoost\":XGBRegressor(verbosity=0),\n",
    "    \"Support Vector Regressor\":SVR(),\n",
    "    \"KNN Regressor\":KNeighborsRegressor()\n",
    "}"
   ]
  },
  {
   "cell_type": "code",
   "execution_count": 29,
   "id": "ffb9eb4a",
   "metadata": {},
   "outputs": [],
   "source": [
    "from sklearn.metrics import mean_absolute_error,mean_squared_error,r2_score\n",
    "\n",
    "results = []\n",
    "\n",
    "for name,model in models.items():\n",
    "    model.fit(x_train,y_train)\n",
    "    y_pred = model.predict(x_test)\n",
    "    \n",
    "    r2 = r2_score(y_test,y_pred)\n",
    "    rmse = mean_squared_error(y_test,y_pred)\n",
    "    mae = mean_absolute_error(y_test,y_pred)\n",
    "    \n",
    "    results.append({\n",
    "        'Model':name,\n",
    "        'R2 Score':r2,\n",
    "        'RMSE':rmse,\n",
    "        'MAE':mae\n",
    "    })"
   ]
  },
  {
   "cell_type": "code",
   "execution_count": 30,
   "id": "4df98b0c",
   "metadata": {},
   "outputs": [],
   "source": [
    "result_df = pd.DataFrame(results).sort_values(by='R2 Score',ascending=False)"
   ]
  },
  {
   "cell_type": "code",
   "execution_count": 31,
   "id": "4a267e14",
   "metadata": {},
   "outputs": [
    {
     "data": {
      "text/html": [
       "<div>\n",
       "<style scoped>\n",
       "    .dataframe tbody tr th:only-of-type {\n",
       "        vertical-align: middle;\n",
       "    }\n",
       "\n",
       "    .dataframe tbody tr th {\n",
       "        vertical-align: top;\n",
       "    }\n",
       "\n",
       "    .dataframe thead th {\n",
       "        text-align: right;\n",
       "    }\n",
       "</style>\n",
       "<table border=\"1\" class=\"dataframe\">\n",
       "  <thead>\n",
       "    <tr style=\"text-align: right;\">\n",
       "      <th></th>\n",
       "      <th>Model</th>\n",
       "      <th>R2 Score</th>\n",
       "      <th>RMSE</th>\n",
       "      <th>MAE</th>\n",
       "    </tr>\n",
       "  </thead>\n",
       "  <tbody>\n",
       "    <tr>\n",
       "      <th>0</th>\n",
       "      <td>Linear Regression</td>\n",
       "      <td>0.951893</td>\n",
       "      <td>0.088766</td>\n",
       "      <td>0.237367</td>\n",
       "    </tr>\n",
       "    <tr>\n",
       "      <th>3</th>\n",
       "      <td>Gradient Boosting</td>\n",
       "      <td>0.945040</td>\n",
       "      <td>0.101410</td>\n",
       "      <td>0.252460</td>\n",
       "    </tr>\n",
       "    <tr>\n",
       "      <th>2</th>\n",
       "      <td>Random Forest</td>\n",
       "      <td>0.936746</td>\n",
       "      <td>0.116714</td>\n",
       "      <td>0.270190</td>\n",
       "    </tr>\n",
       "    <tr>\n",
       "      <th>4</th>\n",
       "      <td>XGBoost</td>\n",
       "      <td>0.933014</td>\n",
       "      <td>0.123600</td>\n",
       "      <td>0.280856</td>\n",
       "    </tr>\n",
       "    <tr>\n",
       "      <th>5</th>\n",
       "      <td>Support Vector Regressor</td>\n",
       "      <td>0.932147</td>\n",
       "      <td>0.125199</td>\n",
       "      <td>0.278390</td>\n",
       "    </tr>\n",
       "    <tr>\n",
       "      <th>1</th>\n",
       "      <td>Decision Tree</td>\n",
       "      <td>0.853033</td>\n",
       "      <td>0.271178</td>\n",
       "      <td>0.409091</td>\n",
       "    </tr>\n",
       "    <tr>\n",
       "      <th>6</th>\n",
       "      <td>KNN Regressor</td>\n",
       "      <td>0.188651</td>\n",
       "      <td>1.497070</td>\n",
       "      <td>0.981463</td>\n",
       "    </tr>\n",
       "  </tbody>\n",
       "</table>\n",
       "</div>"
      ],
      "text/plain": [
       "                      Model  R2 Score      RMSE       MAE\n",
       "0         Linear Regression  0.951893  0.088766  0.237367\n",
       "3         Gradient Boosting  0.945040  0.101410  0.252460\n",
       "2             Random Forest  0.936746  0.116714  0.270190\n",
       "4                   XGBoost  0.933014  0.123600  0.280856\n",
       "5  Support Vector Regressor  0.932147  0.125199  0.278390\n",
       "1             Decision Tree  0.853033  0.271178  0.409091\n",
       "6             KNN Regressor  0.188651  1.497070  0.981463"
      ]
     },
     "execution_count": 31,
     "metadata": {},
     "output_type": "execute_result"
    }
   ],
   "source": [
    "result_df"
   ]
  },
  {
   "cell_type": "code",
   "execution_count": 44,
   "id": "440b5180",
   "metadata": {},
   "outputs": [],
   "source": [
    "best_model_name = result_df.iloc[0,0]\n",
    "best_model = models.get(best_model_name)"
   ]
  },
  {
   "cell_type": "code",
   "execution_count": 45,
   "id": "18448445",
   "metadata": {},
   "outputs": [
    {
     "data": {
      "text/plain": [
       "['model.joblib']"
      ]
     },
     "execution_count": 45,
     "metadata": {},
     "output_type": "execute_result"
    }
   ],
   "source": [
    "import joblib\n",
    "joblib.dump(best_model,\"model.joblib\")"
   ]
  }
 ],
 "metadata": {
  "kernelspec": {
   "display_name": "Python 3",
   "language": "python",
   "name": "python3"
  },
  "language_info": {
   "codemirror_mode": {
    "name": "ipython",
    "version": 3
   },
   "file_extension": ".py",
   "mimetype": "text/x-python",
   "name": "python",
   "nbconvert_exporter": "python",
   "pygments_lexer": "ipython3",
   "version": "3.12.6"
  }
 },
 "nbformat": 4,
 "nbformat_minor": 5
}
